{
 "cells": [
  {
   "cell_type": "code",
   "execution_count": 1,
   "metadata": {},
   "outputs": [],
   "source": [
    "import pandas as pd\n",
    "import numpy as np\n",
    "%matplotlib inline\n",
    "import matplotlib.pyplot as plt\n",
    "import tensorflow  as tf\n",
    "from tensorflow import keras"
   ]
  },
  {
   "cell_type": "markdown",
   "metadata": {},
   "source": [
    "## Loading fashion mnist dataset "
   ]
  },
  {
   "cell_type": "code",
   "execution_count": 2,
   "metadata": {},
   "outputs": [],
   "source": [
    "fashion_mnist = keras.datasets.fashion_mnist\n",
    "(x_train_full , y_train_full),(x_test, y_test) = fashion_mnist.load_data()"
   ]
  },
  {
   "cell_type": "code",
   "execution_count": null,
   "metadata": {},
   "outputs": [],
   "source": []
  },
  {
   "cell_type": "code",
   "execution_count": 3,
   "metadata": {},
   "outputs": [
    {
     "data": {
      "text/plain": [
       "<matplotlib.image.AxesImage at 0x7f57ad149390>"
      ]
     },
     "execution_count": 3,
     "metadata": {},
     "output_type": "execute_result"
    },
    {
     "data": {
      "image/png": "[encoded data removed]",
      "text/plain": [
       "<Figure size 432x288 with 1 Axes>"
      ]
     },
     "metadata": {
      "needs_background": "light"
     },
     "output_type": "display_data"
    }
   ],
   "source": [
    "plt.imshow(x_train_full[9])"
   ]
  },
  {
   "cell_type": "code",
   "execution_count": null,
   "metadata": {},
   "outputs": [],
   "source": []
  },
  {
   "cell_type": "code",
   "execution_count": 4,
   "metadata": {},
   "outputs": [],
   "source": [
    "classnames = [\"Tshirt/top\",\"Trouser\",\"Pullover\",\"Dress\",\n",
    "              \"Coat\", \"Scandal\", \"Shirt\", \"Sneaker\"\n",
    "             ,\"Bag\", \"Ankel Boot\"]"
   ]
  },
  {
   "cell_type": "code",
   "execution_count": 5,
   "metadata": {},
   "outputs": [
    {
     "data": {
      "text/plain": [
       "'Pullover'"
      ]
     },
     "execution_count": 5,
     "metadata": {},
     "output_type": "execute_result"
    }
   ],
   "source": [
    "classnames[y_train_full[45]]"
   ]
  },
  {
   "cell_type": "markdown",
   "metadata": {},
   "source": [
    "# Data Normalization \n",
    "simple way to divide with 255 "
   ]
  },
  {
   "cell_type": "code",
   "execution_count": 6,
   "metadata": {},
   "outputs": [],
   "source": [
    "x_train_n = x_train_full/255\n",
    "x_test_n = x_test / 255"
   ]
  },
  {
   "cell_type": "markdown",
   "metadata": {},
   "source": [
    "### Spliting the data into train & validation & test datasets"
   ]
  },
  {
   "cell_type": "code",
   "execution_count": 7,
   "metadata": {},
   "outputs": [],
   "source": [
    "x_valid , x_train = x_train_n[:5000], x_train_n[5000:]\n",
    "y_valid , y_train = y_train_full[:5000], y_train_full[5000:]\n",
    "x_test = x_test_n"
   ]
  },
  {
   "cell_type": "code",
   "execution_count": 8,
   "metadata": {},
   "outputs": [],
   "source": [
    "np.random.seed(42)\n",
    "tf.random.set_seed(42)"
   ]
  },
  {
   "cell_type": "code",
   "execution_count": 9,
   "metadata": {},
   "outputs": [],
   "source": [
    "model = keras.models.Sequential()\n",
    "model.add(keras.layers.Flatten(input_shape=[28,28]))\n",
    "model.add(keras.layers.Dense(300,activation='relu'))\n",
    "model.add(keras.layers.Dense(100, activation='relu'))\n",
    "model.add(keras.layers.Dense(10, activation=\"softmax\"))"
   ]
  },
  {
   "cell_type": "code",
   "execution_count": 10,
   "metadata": {},
   "outputs": [],
   "source": [
    "model.compile(loss=\"sparse_categorical_crossentropy\",\n",
    "              optimizer=\"sgd\",\n",
    "              metrics=[\"accuracy\"])"
   ]
  },
  {
   "cell_type": "code",
   "execution_count": 11,
   "metadata": {},
   "outputs": [
    {
     "name": "stdout",
     "output_type": "stream",
     "text": [
      "Epoch 1/30\n",
      "1719/1719 [==============================] - 9s 5ms/step - loss: 0.7239 - accuracy: 0.7643 - val_loss: 0.5219 - val_accuracy: 0.8206\n",
      "Epoch 2/30\n",
      "1719/1719 [==============================] - 9s 5ms/step - loss: 0.4842 - accuracy: 0.8321 - val_loss: 0.4351 - val_accuracy: 0.8524\n",
      "Epoch 3/30\n",
      "1719/1719 [==============================] - 9s 5ms/step - loss: 0.4390 - accuracy: 0.8455 - val_loss: 0.5362 - val_accuracy: 0.7970\n",
      "Epoch 4/30\n",
      "1719/1719 [==============================] - 10s 6ms/step - loss: 0.4122 - accuracy: 0.8562 - val_loss: 0.3923 - val_accuracy: 0.8654\n",
      "Epoch 5/30\n",
      "1719/1719 [==============================] - 9s 5ms/step - loss: 0.3937 - accuracy: 0.8623 - val_loss: 0.3751 - val_accuracy: 0.8694\n",
      "Epoch 6/30\n",
      "1719/1719 [==============================] - 9s 5ms/step - loss: 0.3749 - accuracy: 0.8677 - val_loss: 0.3710 - val_accuracy: 0.8730\n",
      "Epoch 7/30\n",
      "1719/1719 [==============================] - 10s 6ms/step - loss: 0.3629 - accuracy: 0.8713 - val_loss: 0.3631 - val_accuracy: 0.8718\n",
      "Epoch 8/30\n",
      "1719/1719 [==============================] - 9s 5ms/step - loss: 0.3515 - accuracy: 0.8749 - val_loss: 0.3856 - val_accuracy: 0.8620\n",
      "Epoch 9/30\n",
      "1719/1719 [==============================] - 10s 6ms/step - loss: 0.3411 - accuracy: 0.8790 - val_loss: 0.3594 - val_accuracy: 0.8688\n",
      "Epoch 10/30\n",
      "1719/1719 [==============================] - 9s 5ms/step - loss: 0.3319 - accuracy: 0.8825 - val_loss: 0.3429 - val_accuracy: 0.8782\n",
      "Epoch 11/30\n",
      "1719/1719 [==============================] - 9s 5ms/step - loss: 0.3240 - accuracy: 0.8835 - val_loss: 0.3439 - val_accuracy: 0.8782\n",
      "Epoch 12/30\n",
      "1719/1719 [==============================] - 9s 5ms/step - loss: 0.3148 - accuracy: 0.8865 - val_loss: 0.3307 - val_accuracy: 0.8832\n",
      "Epoch 13/30\n",
      "1719/1719 [==============================] - 9s 5ms/step - loss: 0.3081 - accuracy: 0.8897 - val_loss: 0.3267 - val_accuracy: 0.8878\n",
      "Epoch 14/30\n",
      "1719/1719 [==============================] - 9s 5ms/step - loss: 0.3020 - accuracy: 0.8916 - val_loss: 0.3405 - val_accuracy: 0.8772\n",
      "Epoch 15/30\n",
      "1719/1719 [==============================] - 10s 6ms/step - loss: 0.2945 - accuracy: 0.8939 - val_loss: 0.3210 - val_accuracy: 0.8856\n",
      "Epoch 16/30\n",
      "1719/1719 [==============================] - 10s 6ms/step - loss: 0.2889 - accuracy: 0.8969 - val_loss: 0.3088 - val_accuracy: 0.8884\n",
      "Epoch 17/30\n",
      "1719/1719 [==============================] - 9s 5ms/step - loss: 0.2838 - accuracy: 0.8971 - val_loss: 0.3566 - val_accuracy: 0.8722\n",
      "Epoch 18/30\n",
      "1719/1719 [==============================] - 10s 6ms/step - loss: 0.2777 - accuracy: 0.9005 - val_loss: 0.3146 - val_accuracy: 0.8898\n",
      "Epoch 19/30\n",
      "1719/1719 [==============================] - 10s 6ms/step - loss: 0.2727 - accuracy: 0.9025 - val_loss: 0.3136 - val_accuracy: 0.8902\n",
      "Epoch 20/30\n",
      "1719/1719 [==============================] - 10s 6ms/step - loss: 0.2672 - accuracy: 0.9037 - val_loss: 0.3296 - val_accuracy: 0.8816\n",
      "Epoch 21/30\n",
      "1719/1719 [==============================] - 9s 5ms/step - loss: 0.2625 - accuracy: 0.9058 - val_loss: 0.3055 - val_accuracy: 0.8924\n",
      "Epoch 22/30\n",
      "1719/1719 [==============================] - 10s 6ms/step - loss: 0.2576 - accuracy: 0.9075 - val_loss: 0.2966 - val_accuracy: 0.8962\n",
      "Epoch 23/30\n",
      "1719/1719 [==============================] - 9s 5ms/step - loss: 0.2534 - accuracy: 0.9083 - val_loss: 0.3001 - val_accuracy: 0.8932\n",
      "Epoch 24/30\n",
      "1719/1719 [==============================] - 10s 6ms/step - loss: 0.2485 - accuracy: 0.9096 - val_loss: 0.3080 - val_accuracy: 0.8884\n",
      "Epoch 25/30\n",
      "1719/1719 [==============================] - 10s 6ms/step - loss: 0.2442 - accuracy: 0.9129 - val_loss: 0.2970 - val_accuracy: 0.8960\n",
      "Epoch 26/30\n",
      "1719/1719 [==============================] - 10s 6ms/step - loss: 0.2407 - accuracy: 0.9131 - val_loss: 0.3071 - val_accuracy: 0.8896\n",
      "Epoch 27/30\n",
      "1719/1719 [==============================] - 10s 6ms/step - loss: 0.2363 - accuracy: 0.9159 - val_loss: 0.3036 - val_accuracy: 0.8944\n",
      "Epoch 28/30\n",
      "1719/1719 [==============================] - 9s 5ms/step - loss: 0.2327 - accuracy: 0.9167 - val_loss: 0.2974 - val_accuracy: 0.8942\n",
      "Epoch 29/30\n",
      "1719/1719 [==============================] - 10s 6ms/step - loss: 0.2283 - accuracy: 0.9183 - val_loss: 0.3061 - val_accuracy: 0.8890\n",
      "Epoch 30/30\n",
      "1719/1719 [==============================] - 10s 6ms/step - loss: 0.2252 - accuracy: 0.9195 - val_loss: 0.3030 - val_accuracy: 0.8924\n"
     ]
    }
   ],
   "source": [
    "model_history = model.fit(x_train, y_train, epochs=30,\n",
    "                    validation_data=(x_valid, y_valid))"
   ]
  },
  {
   "cell_type": "code",
   "execution_count": 12,
   "metadata": {},
   "outputs": [],
   "source": [
    "model.save(\"my_mode.h5\")"
   ]
  },
  {
   "cell_type": "code",
   "execution_count": 13,
   "metadata": {},
   "outputs": [
    {
     "data": {
      "text/plain": [
       "{'verbose': 1, 'epochs': 30, 'steps': 1719}"
      ]
     },
     "execution_count": 13,
     "metadata": {},
     "output_type": "execute_result"
    }
   ],
   "source": [
    "model_history.params"
   ]
  },
  {
   "cell_type": "code",
   "execution_count": 14,
   "metadata": {},
   "outputs": [
    {
     "data": {
      "text/plain": [
       "{'loss': [0.7238965630531311,\n",
       "  0.48418307304382324,\n",
       "  0.439037024974823,\n",
       "  0.41219499707221985,\n",
       "  0.3936617076396942,\n",
       "  0.3749487102031708,\n",
       "  0.36287903785705566,\n",
       "  0.3514813184738159,\n",
       "  0.3411000072956085,\n",
       "  0.3319225609302521,\n",
       "  0.3239809274673462,\n",
       "  0.31475409865379333,\n",
       "  0.3081034719944,\n",
       "  0.30204498767852783,\n",
       "  0.2945103645324707,\n",
       "  0.2889232635498047,\n",
       "  0.28379756212234497,\n",
       "  0.2777343988418579,\n",
       "  0.27271708846092224,\n",
       "  0.2672058343887329,\n",
       "  0.26246899366378784,\n",
       "  0.25759658217430115,\n",
       "  0.2533951997756958,\n",
       "  0.2485007643699646,\n",
       "  0.24417458474636078,\n",
       "  0.2406594455242157,\n",
       "  0.23629456758499146,\n",
       "  0.2326688915491104,\n",
       "  0.22833074629306793,\n",
       "  0.22516006231307983],\n",
       " 'accuracy': [0.7643091082572937,\n",
       "  0.8320909142494202,\n",
       "  0.8454727530479431,\n",
       "  0.8561636209487915,\n",
       "  0.8622545599937439,\n",
       "  0.8677454590797424,\n",
       "  0.87132728099823,\n",
       "  0.874927282333374,\n",
       "  0.8790363669395447,\n",
       "  0.8824545741081238,\n",
       "  0.8834545612335205,\n",
       "  0.886509120464325,\n",
       "  0.8896909356117249,\n",
       "  0.8916181921958923,\n",
       "  0.8939090967178345,\n",
       "  0.8969091176986694,\n",
       "  0.8971454501152039,\n",
       "  0.9004727005958557,\n",
       "  0.9025090932846069,\n",
       "  0.9036545157432556,\n",
       "  0.9057818055152893,\n",
       "  0.9075090885162354,\n",
       "  0.9083454608917236,\n",
       "  0.9095636606216431,\n",
       "  0.9128727316856384,\n",
       "  0.9131454825401306,\n",
       "  0.9159454703330994,\n",
       "  0.9166545271873474,\n",
       "  0.918327271938324,\n",
       "  0.9195091128349304],\n",
       " 'val_loss': [0.521888792514801,\n",
       "  0.43509507179260254,\n",
       "  0.5361888408660889,\n",
       "  0.3922595977783203,\n",
       "  0.37514030933380127,\n",
       "  0.3709971308708191,\n",
       "  0.36314183473587036,\n",
       "  0.38561999797821045,\n",
       "  0.35938048362731934,\n",
       "  0.34292057156562805,\n",
       "  0.34386587142944336,\n",
       "  0.33071252703666687,\n",
       "  0.3267359137535095,\n",
       "  0.3405064642429352,\n",
       "  0.32100504636764526,\n",
       "  0.3087834417819977,\n",
       "  0.3566248416900635,\n",
       "  0.31457263231277466,\n",
       "  0.3136179447174072,\n",
       "  0.32958710193634033,\n",
       "  0.3054875433444977,\n",
       "  0.2965756952762604,\n",
       "  0.3001033663749695,\n",
       "  0.3079679310321808,\n",
       "  0.29704749584198,\n",
       "  0.30705899000167847,\n",
       "  0.30355069041252136,\n",
       "  0.29736095666885376,\n",
       "  0.3061213195323944,\n",
       "  0.3030019998550415],\n",
       " 'val_accuracy': [0.8205999732017517,\n",
       "  0.852400004863739,\n",
       "  0.796999990940094,\n",
       "  0.8654000163078308,\n",
       "  0.8694000244140625,\n",
       "  0.8730000257492065,\n",
       "  0.8718000054359436,\n",
       "  0.8619999885559082,\n",
       "  0.8687999844551086,\n",
       "  0.8781999945640564,\n",
       "  0.8781999945640564,\n",
       "  0.8831999897956848,\n",
       "  0.8877999782562256,\n",
       "  0.8772000074386597,\n",
       "  0.8855999708175659,\n",
       "  0.8884000182151794,\n",
       "  0.8722000122070312,\n",
       "  0.8898000121116638,\n",
       "  0.8902000188827515,\n",
       "  0.881600022315979,\n",
       "  0.8924000263214111,\n",
       "  0.8962000012397766,\n",
       "  0.8931999802589417,\n",
       "  0.8884000182151794,\n",
       "  0.8960000276565552,\n",
       "  0.8895999789237976,\n",
       "  0.8944000005722046,\n",
       "  0.8942000269889832,\n",
       "  0.8889999985694885,\n",
       "  0.8924000263214111]}"
      ]
     },
     "execution_count": 14,
     "metadata": {},
     "output_type": "execute_result"
    }
   ],
   "source": [
    "model_history.history\n"
   ]
  },
  {
   "cell_type": "code",
   "execution_count": 15,
   "metadata": {
    "scrolled": true
   },
   "outputs": [
    {
     "data": {
      "image/png": "[encoded data removed]",
      "text/plain": [
       "<Figure size 576x360 with 1 Axes>"
      ]
     },
     "metadata": {
      "needs_background": "light"
     },
     "output_type": "display_data"
    }
   ],
   "source": [
    "\n",
    "pd.DataFrame(model_history.history).plot(figsize=(8, 5))\n",
    "plt.grid(True)\n",
    "plt.gca().set_ylim(0, 1)\n",
    "plt.show()"
   ]
  },
  {
   "cell_type": "code",
   "execution_count": 16,
   "metadata": {},
   "outputs": [
    {
     "data": {
      "text/plain": [
       "array([9, 2, 1])"
      ]
     },
     "execution_count": 16,
     "metadata": {},
     "output_type": "execute_result"
    }
   ],
   "source": [
    "X_new = x_test[:3]\n",
    "y_pred = np.argmax(model.predict(X_new), axis=-1)\n",
    "y_pred"
   ]
  },
  {
   "cell_type": "code",
   "execution_count": 17,
   "metadata": {},
   "outputs": [
    {
     "data": {
      "text/plain": [
       "array(['Ankel Boot', 'Pullover', 'Trouser'], dtype='<U10')"
      ]
     },
     "execution_count": 17,
     "metadata": {},
     "output_type": "execute_result"
    }
   ],
   "source": [
    "np.array(classnames)[y_pred]"
   ]
  },
  {
   "cell_type": "code",
   "execution_count": 18,
   "metadata": {},
   "outputs": [
    {
     "data": {
      "text/plain": [
       "<matplotlib.image.AxesImage at 0x7f577844b7d0>"
      ]
     },
     "execution_count": 18,
     "metadata": {},
     "output_type": "execute_result"
    },
    {
     "data": {
      "image/png": "[encoded data removed]",
      "text/plain": [
       "<Figure size 432x288 with 1 Axes>"
      ]
     },
     "metadata": {
      "needs_background": "light"
     },
     "output_type": "display_data"
    }
   ],
   "source": [
    "plt.imshow(X_new[0])"
   ]
  },
  {
   "cell_type": "code",
   "execution_count": null,
   "metadata": {},
   "outputs": [],
   "source": []
  },
  {
   "cell_type": "code",
   "execution_count": null,
   "metadata": {},
   "outputs": [],
   "source": []
  }
 ],
 "metadata": {
  "kernelspec": {
   "display_name": "Python 3",
   "language": "python",
   "name": "python3"
  },
  "language_info": {
   "codemirror_mode": {
    "name": "ipython",
    "version": 3
   },
   "file_extension": ".py",
   "mimetype": "text/x-python",
   "name": "python",
   "nbconvert_exporter": "python",
   "pygments_lexer": "ipython3",
   "version": "3.7.6"
  }
 },
 "nbformat": 4,
 "nbformat_minor": 4
}
