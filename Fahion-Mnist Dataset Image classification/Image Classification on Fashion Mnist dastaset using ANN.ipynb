{
 "cells": [
  {
   "cell_type": "code",
   "execution_count": 1,
   "metadata": {},
   "outputs": [],
   "source": [
    "import pandas as pd\n",
    "import numpy as np\n",
    "%matplotlib inline\n",
    "import matplotlib.pyplot as plt\n",
    "import tensorflow  as tf\n",
    "from tensorflow import keras"
   ]
  },
  {
   "cell_type": "markdown",
   "metadata": {},
   "source": [
    "## Loading fashion mnist dataset "
   ]
  },
  {
   "cell_type": "code",
   "execution_count": 7,
   "metadata": {},
   "outputs": [],
   "source": [
    "fashion_mnist = keras.datasets.fashion_mnist\n",
    "(x_train_full , y_train_full),(x_test, y_test) = fashion_mnist.load_data()"
   ]
  },
  {
   "cell_type": "code",
   "execution_count": null,
   "metadata": {},
   "outputs": [],
   "source": []
  },
  {
   "cell_type": "code",
   "execution_count": 58,
   "metadata": {},
   "outputs": [
    {
     "data": {
      "text/plain": [
       "<matplotlib.image.AxesImage at 0x7efc75ff4d90>"
      ]
     },
     "execution_count": 58,
     "metadata": {},
     "output_type": "execute_result"
    },
    {
     "data": {
      "image/png": "[encoded data removed]",
      "text/plain": [
       "<Figure size 432x288 with 1 Axes>"
      ]
     },
     "metadata": {
      "needs_background": "light"
     },
     "output_type": "display_data"
    }
   ],
   "source": [
    "plt.imshow(x_train_full[9])"
   ]
  },
  {
   "cell_type": "code",
   "execution_count": 11,
   "metadata": {},
   "outputs": [
    {
     "data": {
      "text/plain": [
       "9"
      ]
     },
     "execution_count": 11,
     "metadata": {},
     "output_type": "execute_result"
    }
   ],
   "source": []
  },
  {
   "cell_type": "code",
   "execution_count": 59,
   "metadata": {},
   "outputs": [],
   "source": [
    "classnames = [\"Tshirt/top\",\"Trouser\",\"Pullover\",\"Dress\",\n",
    "              \"Coat\", \"Scandal\", \"Shirt\", \"Sneaker\"\n",
    "             ,\"Bag\", \"Ankel Boot\"]"
   ]
  },
  {
   "cell_type": "code",
   "execution_count": 60,
   "metadata": {},
   "outputs": [
    {
     "data": {
      "text/plain": [
       "'Pullover'"
      ]
     },
     "execution_count": 60,
     "metadata": {},
     "output_type": "execute_result"
    }
   ],
   "source": [
    "classnames[y_train_full[45]]"
   ]
  },
  {
   "cell_type": "markdown",
   "metadata": {},
   "source": [
    "# Data Normalization \n",
    "simple way to divide with 255 "
   ]
  },
  {
   "cell_type": "code",
   "execution_count": 21,
   "metadata": {},
   "outputs": [],
   "source": [
    "x_train_n = x_train_full/255\n",
    "x_test_n = x_test / 255"
   ]
  },
  {
   "cell_type": "markdown",
   "metadata": {},
   "source": [
    "### Spliting the data into train & validation & test datasets"
   ]
  },
  {
   "cell_type": "code",
   "execution_count": 24,
   "metadata": {},
   "outputs": [],
   "source": [
    "x_valid , x_train = x_train_n[:5000], x_train_n[5000:]\n",
    "y_valid , y_train = y_train_full[:5000], y_train_full[5000:]\n",
    "x_test = x_test_n"
   ]
  },
  {
   "cell_type": "code",
   "execution_count": 31,
   "metadata": {},
   "outputs": [],
   "source": [
    "np.random.seed(42)\n",
    "tf.random.set_seed(42)"
   ]
  },
  {
   "cell_type": "code",
   "execution_count": 35,
   "metadata": {},
   "outputs": [],
   "source": [
    "model = keras.models.Sequential()\n",
    "model.add(keras.layers.Flatten(input_shape=[28,28]))\n",
    "model.add(keras.layers.Dense(300,activation='relu'))\n",
    "model.add(keras.layers.Dense(100, activation='relu'))\n",
    "model.add(keras.layers.Dense(10, activation=\"softmax\"))"
   ]
  },
  {
   "cell_type": "code",
   "execution_count": 36,
   "metadata": {},
   "outputs": [],
   "source": [
    "model.compile(loss=\"sparse_categorical_crossentropy\",\n",
    "              optimizer=\"sgd\",\n",
    "              metrics=[\"accuracy\"])"
   ]
  },
  {
   "cell_type": "code",
   "execution_count": 38,
   "metadata": {},
   "outputs": [
    {
     "name": "stdout",
     "output_type": "stream",
     "text": [
      "Epoch 1/30\n",
      "1719/1719 [==============================] - 11s 6ms/step - loss: 0.7013 - accuracy: 0.7692 - val_loss: 0.5177 - val_accuracy: 0.8196\n",
      "Epoch 2/30\n",
      "1719/1719 [==============================] - 10s 6ms/step - loss: 0.4859 - accuracy: 0.8298 - val_loss: 0.4351 - val_accuracy: 0.8500\n",
      "Epoch 3/30\n",
      "1719/1719 [==============================] - 10s 6ms/step - loss: 0.4429 - accuracy: 0.8438 - val_loss: 0.5379 - val_accuracy: 0.7980\n",
      "Epoch 4/30\n",
      "1719/1719 [==============================] - 10s 6ms/step - loss: 0.4163 - accuracy: 0.8550 - val_loss: 0.3959 - val_accuracy: 0.8638\n",
      "Epoch 5/30\n",
      "1719/1719 [==============================] - 10s 6ms/step - loss: 0.3979 - accuracy: 0.8614 - val_loss: 0.3796 - val_accuracy: 0.8672\n",
      "Epoch 6/30\n",
      "1719/1719 [==============================] - 10s 6ms/step - loss: 0.3791 - accuracy: 0.8666 - val_loss: 0.3724 - val_accuracy: 0.8712\n",
      "Epoch 7/30\n",
      "1719/1719 [==============================] - 10s 6ms/step - loss: 0.3667 - accuracy: 0.8716 - val_loss: 0.3627 - val_accuracy: 0.8756\n",
      "Epoch 8/30\n",
      "1719/1719 [==============================] - 10s 6ms/step - loss: 0.3553 - accuracy: 0.8746 - val_loss: 0.3922 - val_accuracy: 0.8602\n",
      "Epoch 9/30\n",
      "1719/1719 [==============================] - 10s 6ms/step - loss: 0.3447 - accuracy: 0.8790 - val_loss: 0.3557 - val_accuracy: 0.8714\n",
      "Epoch 10/30\n",
      "1719/1719 [==============================] - 11s 6ms/step - loss: 0.3358 - accuracy: 0.8807 - val_loss: 0.3498 - val_accuracy: 0.8762\n",
      "Epoch 11/30\n",
      "1719/1719 [==============================] - 10s 6ms/step - loss: 0.3271 - accuracy: 0.8835 - val_loss: 0.3431 - val_accuracy: 0.8750\n",
      "Epoch 12/30\n",
      "1719/1719 [==============================] - 10s 6ms/step - loss: 0.3177 - accuracy: 0.8859 - val_loss: 0.3355 - val_accuracy: 0.8802\n",
      "Epoch 13/30\n",
      "1719/1719 [==============================] - 9s 5ms/step - loss: 0.3107 - accuracy: 0.8892 - val_loss: 0.3308 - val_accuracy: 0.8858\n",
      "Epoch 14/30\n",
      "1719/1719 [==============================] - 10s 6ms/step - loss: 0.3046 - accuracy: 0.8911 - val_loss: 0.3485 - val_accuracy: 0.8736\n",
      "Epoch 15/30\n",
      "1719/1719 [==============================] - 10s 6ms/step - loss: 0.2968 - accuracy: 0.8932 - val_loss: 0.3281 - val_accuracy: 0.8804\n",
      "Epoch 16/30\n",
      "1719/1719 [==============================] - 10s 6ms/step - loss: 0.2917 - accuracy: 0.8958 - val_loss: 0.3118 - val_accuracy: 0.8852\n",
      "Epoch 17/30\n",
      "1719/1719 [==============================] - 11s 6ms/step - loss: 0.2866 - accuracy: 0.8970 - val_loss: 0.3610 - val_accuracy: 0.8710\n",
      "Epoch 18/30\n",
      "1719/1719 [==============================] - 10s 6ms/step - loss: 0.2804 - accuracy: 0.8993 - val_loss: 0.3194 - val_accuracy: 0.8866\n",
      "Epoch 19/30\n",
      "1719/1719 [==============================] - 11s 6ms/step - loss: 0.2755 - accuracy: 0.9009 - val_loss: 0.3171 - val_accuracy: 0.8848\n",
      "Epoch 20/30\n",
      "1719/1719 [==============================] - 10s 6ms/step - loss: 0.2704 - accuracy: 0.9027 - val_loss: 0.3270 - val_accuracy: 0.8832\n",
      "Epoch 21/30\n",
      "1719/1719 [==============================] - 10s 6ms/step - loss: 0.2655 - accuracy: 0.9047 - val_loss: 0.3102 - val_accuracy: 0.8884\n",
      "Epoch 22/30\n",
      "1719/1719 [==============================] - 10s 6ms/step - loss: 0.2606 - accuracy: 0.9064 - val_loss: 0.2993 - val_accuracy: 0.8914\n",
      "Epoch 23/30\n",
      "1719/1719 [==============================] - 10s 6ms/step - loss: 0.2562 - accuracy: 0.9081 - val_loss: 0.3026 - val_accuracy: 0.8904\n",
      "Epoch 24/30\n",
      "1719/1719 [==============================] - 10s 6ms/step - loss: 0.2521 - accuracy: 0.9089 - val_loss: 0.3133 - val_accuracy: 0.8838\n",
      "Epoch 25/30\n",
      "1719/1719 [==============================] - 10s 6ms/step - loss: 0.2480 - accuracy: 0.9105 - val_loss: 0.3024 - val_accuracy: 0.8912\n",
      "Epoch 26/30\n",
      "1719/1719 [==============================] - 11s 6ms/step - loss: 0.2436 - accuracy: 0.9132 - val_loss: 0.3045 - val_accuracy: 0.8898\n",
      "Epoch 27/30\n",
      "1719/1719 [==============================] - 12s 7ms/step - loss: 0.2399 - accuracy: 0.9147 - val_loss: 0.3005 - val_accuracy: 0.8908\n",
      "Epoch 28/30\n",
      "1719/1719 [==============================] - 13s 8ms/step - loss: 0.2361 - accuracy: 0.9156 - val_loss: 0.3022 - val_accuracy: 0.8888\n",
      "Epoch 29/30\n",
      "1719/1719 [==============================] - 12s 7ms/step - loss: 0.2321 - accuracy: 0.9171 - val_loss: 0.3114 - val_accuracy: 0.8834\n",
      "Epoch 30/30\n",
      "1719/1719 [==============================] - 12s 7ms/step - loss: 0.2289 - accuracy: 0.9181 - val_loss: 0.3062 - val_accuracy: 0.8888\n"
     ]
    }
   ],
   "source": [
    "model_history = model.fit(x_train, y_train, epochs=30,\n",
    "                    validation_data=(x_valid, y_valid))"
   ]
  },
  {
   "cell_type": "code",
   "execution_count": 39,
   "metadata": {},
   "outputs": [
    {
     "data": {
      "text/plain": [
       "{'verbose': 1, 'epochs': 30, 'steps': 1719}"
      ]
     },
     "execution_count": 39,
     "metadata": {},
     "output_type": "execute_result"
    }
   ],
   "source": [
    "model_history.params"
   ]
  },
  {
   "cell_type": "code",
   "execution_count": 40,
   "metadata": {},
   "outputs": [
    {
     "data": {
      "text/plain": [
       "{'loss': [0.7013289928436279,\n",
       "  0.4859303832054138,\n",
       "  0.44291675090789795,\n",
       "  0.41632166504859924,\n",
       "  0.39791008830070496,\n",
       "  0.3790888488292694,\n",
       "  0.3667096197605133,\n",
       "  0.35533079504966736,\n",
       "  0.3447151780128479,\n",
       "  0.33579665422439575,\n",
       "  0.32712864875793457,\n",
       "  0.3176653981208801,\n",
       "  0.31074759364128113,\n",
       "  0.3045860826969147,\n",
       "  0.2968118190765381,\n",
       "  0.29174116253852844,\n",
       "  0.2866109609603882,\n",
       "  0.2804119288921356,\n",
       "  0.27546823024749756,\n",
       "  0.2703888714313507,\n",
       "  0.26552698016166687,\n",
       "  0.26062753796577454,\n",
       "  0.25621968507766724,\n",
       "  0.25212362408638,\n",
       "  0.24802497029304504,\n",
       "  0.24356237053871155,\n",
       "  0.2399066537618637,\n",
       "  0.23605553805828094,\n",
       "  0.23213359713554382,\n",
       "  0.22886812686920166],\n",
       " 'accuracy': [0.7692363858222961,\n",
       "  0.829800009727478,\n",
       "  0.843818187713623,\n",
       "  0.8550181984901428,\n",
       "  0.8613636493682861,\n",
       "  0.8665817975997925,\n",
       "  0.8715636134147644,\n",
       "  0.8746181726455688,\n",
       "  0.8789818286895752,\n",
       "  0.8806909322738647,\n",
       "  0.883472740650177,\n",
       "  0.8859454393386841,\n",
       "  0.8892182111740112,\n",
       "  0.8910727500915527,\n",
       "  0.8931636214256287,\n",
       "  0.895836353302002,\n",
       "  0.8970181941986084,\n",
       "  0.8992727398872375,\n",
       "  0.9009272456169128,\n",
       "  0.9027272462844849,\n",
       "  0.9047454595565796,\n",
       "  0.9064000248908997,\n",
       "  0.9080908894538879,\n",
       "  0.9088727235794067,\n",
       "  0.9104545712471008,\n",
       "  0.9131818413734436,\n",
       "  0.9146727323532104,\n",
       "  0.9156363606452942,\n",
       "  0.9171454310417175,\n",
       "  0.918109118938446],\n",
       " 'val_loss': [0.51766037940979,\n",
       "  0.435058057308197,\n",
       "  0.537881076335907,\n",
       "  0.395860880613327,\n",
       "  0.37957763671875,\n",
       "  0.3723617494106293,\n",
       "  0.3627486526966095,\n",
       "  0.3922039270401001,\n",
       "  0.3556555509567261,\n",
       "  0.3497789800167084,\n",
       "  0.34308016300201416,\n",
       "  0.33552461862564087,\n",
       "  0.3308139741420746,\n",
       "  0.3485441505908966,\n",
       "  0.3281148672103882,\n",
       "  0.31180208921432495,\n",
       "  0.3610280752182007,\n",
       "  0.3193729519844055,\n",
       "  0.3171350955963135,\n",
       "  0.32701119780540466,\n",
       "  0.3101966679096222,\n",
       "  0.29927435517311096,\n",
       "  0.3025684058666229,\n",
       "  0.313264399766922,\n",
       "  0.30243536829948425,\n",
       "  0.30453982949256897,\n",
       "  0.3005412220954895,\n",
       "  0.30215486884117126,\n",
       "  0.31144699454307556,\n",
       "  0.30623912811279297],\n",
       " 'val_accuracy': [0.819599986076355,\n",
       "  0.8500000238418579,\n",
       "  0.7979999780654907,\n",
       "  0.8637999892234802,\n",
       "  0.8672000169754028,\n",
       "  0.8712000250816345,\n",
       "  0.8755999803543091,\n",
       "  0.8601999878883362,\n",
       "  0.871399998664856,\n",
       "  0.8762000203132629,\n",
       "  0.875,\n",
       "  0.8802000284194946,\n",
       "  0.8858000040054321,\n",
       "  0.8736000061035156,\n",
       "  0.8804000020027161,\n",
       "  0.885200023651123,\n",
       "  0.8709999918937683,\n",
       "  0.8866000175476074,\n",
       "  0.8848000168800354,\n",
       "  0.8831999897956848,\n",
       "  0.8884000182151794,\n",
       "  0.8913999795913696,\n",
       "  0.8903999924659729,\n",
       "  0.8838000297546387,\n",
       "  0.8912000060081482,\n",
       "  0.8898000121116638,\n",
       "  0.8907999992370605,\n",
       "  0.8888000249862671,\n",
       "  0.883400022983551,\n",
       "  0.8888000249862671]}"
      ]
     },
     "execution_count": 40,
     "metadata": {},
     "output_type": "execute_result"
    }
   ],
   "source": [
    "model_history.history\n"
   ]
  },
  {
   "cell_type": "code",
   "execution_count": 41,
   "metadata": {
    "scrolled": true
   },
   "outputs": [
    {
     "data": {
      "image/png": "[encoded data removed]",
      "text/plain": [
       "<Figure size 576x360 with 1 Axes>"
      ]
     },
     "metadata": {
      "needs_background": "light"
     },
     "output_type": "display_data"
    }
   ],
   "source": [
    "\n",
    "pd.DataFrame(model_history.history).plot(figsize=(8, 5))\n",
    "plt.grid(True)\n",
    "plt.gca().set_ylim(0, 1)\n",
    "plt.show()"
   ]
  },
  {
   "cell_type": "code",
   "execution_count": 61,
   "metadata": {},
   "outputs": [
    {
     "data": {
      "text/plain": [
       "array([9, 2, 1])"
      ]
     },
     "execution_count": 61,
     "metadata": {},
     "output_type": "execute_result"
    }
   ],
   "source": [
    "X_new = x_test[:3]\n",
    "y_pred = np.argmax(model.predict(X_new), axis=-1)\n",
    "y_pred"
   ]
  },
  {
   "cell_type": "code",
   "execution_count": 62,
   "metadata": {},
   "outputs": [
    {
     "data": {
      "text/plain": [
       "array(['Ankel Boot', 'Pullover', 'Trouser'], dtype='<U10')"
      ]
     },
     "execution_count": 62,
     "metadata": {},
     "output_type": "execute_result"
    }
   ],
   "source": [
    "np.array(classnames)[y_pred]"
   ]
  },
  {
   "cell_type": "code",
   "execution_count": 63,
   "metadata": {},
   "outputs": [
    {
     "data": {
      "text/plain": [
       "<matplotlib.image.AxesImage at 0x7efc75f75c90>"
      ]
     },
     "execution_count": 63,
     "metadata": {},
     "output_type": "execute_result"
    },
    {
     "data": {
      "image/png": "[encoded data removed]",
      "text/plain": [
       "<Figure size 432x288 with 1 Axes>"
      ]
     },
     "metadata": {
      "needs_background": "light"
     },
     "output_type": "display_data"
    }
   ],
   "source": [
    "plt.imshow(X_new[0])"
   ]
  },
  {
   "cell_type": "code",
   "execution_count": null,
   "metadata": {},
   "outputs": [],
   "source": []
  },
  {
   "cell_type": "code",
   "execution_count": null,
   "metadata": {},
   "outputs": [],
   "source": []
  }
 ],
 "metadata": {
  "kernelspec": {
   "display_name": "Python 3",
   "language": "python",
   "name": "python3"
  },
  "language_info": {
   "codemirror_mode": {
    "name": "ipython",
    "version": 3
   },
   "file_extension": ".py",
   "mimetype": "text/x-python",
   "name": "python",
   "nbconvert_exporter": "python",
   "pygments_lexer": "ipython3",
   "version": "3.7.6"
  }
 },
 "nbformat": 4,
 "nbformat_minor": 4
}
